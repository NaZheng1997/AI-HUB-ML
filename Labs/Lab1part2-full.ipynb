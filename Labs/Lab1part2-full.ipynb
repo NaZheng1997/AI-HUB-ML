{
 "cells": [
  {
   "cell_type": "markdown",
   "metadata": {
    "slideshow": {
     "slide_type": "slide"
    }
   },
   "source": [
    "# <img style=\"float: left; padding-right: 10px; width: 45px\"> GEC AI HUB: Introduction to Data Science and Machine Learning\n",
    "\n",
    "\n",
    "\n",
    "## Lab 1: Classification and Dimensionality Reduction -- Part 2\n",
    "\n",
    "**GEC AI Hub**<br>\n",
    "**Summer 2019**<br>\n",
    "**Instructors:** Pavlos Protopapas<br>\n",
    "**Lab Instructors:** Patrick Ohiomoba and Esteban Reyes<br>\n",
    "\n",
    "---"
   ]
  },
  {
   "cell_type": "code",
   "execution_count": 195,
   "metadata": {},
   "outputs": [
    {
     "data": {
      "text/html": [
       "<style>\n",
       "blockquote { background: #AEDE94; }\n",
       "h1 { \n",
       "    padding-top: 25px;\n",
       "    padding-bottom: 25px;\n",
       "    text-align: left; \n",
       "    padding-left: 10px;\n",
       "    background-color: #DDDDDD; \n",
       "    color: black;\n",
       "}\n",
       "h2 { \n",
       "    padding-top: 10px;\n",
       "    padding-bottom: 10px;\n",
       "    text-align: left; \n",
       "    padding-left: 5px;\n",
       "    background-color: #EEEEEE; \n",
       "    color: black;\n",
       "}\n",
       "\n",
       "div.exercise {\n",
       "\tbackground-color: #ffcccc;\n",
       "\tborder-color: #E9967A; \t\n",
       "\tborder-left: 5px solid #800080; \n",
       "\tpadding: 0.5em;\n",
       "}\n",
       "\n",
       "span.sub-q {\n",
       "\tfont-weight: bold;\n",
       "}\n",
       "div.theme {\n",
       "\tbackground-color: #DDDDDD;\n",
       "\tborder-color: #E9967A; \t\n",
       "\tborder-left: 5px solid #800080; \n",
       "\tpadding: 0.5em;\n",
       "\tfont-size: 18pt;\n",
       "}\n",
       "div.gc { \n",
       "\tbackground-color: #AEDE94;\n",
       "\tborder-color: #E9967A; \t \n",
       "\tborder-left: 5px solid #800080; \n",
       "\tpadding: 0.5em;\n",
       "\tfont-size: 12pt;\n",
       "}\n",
       "p.q1 { \n",
       "    padding-top: 5px;\n",
       "    padding-bottom: 5px;\n",
       "    text-align: left; \n",
       "    padding-left: 5px;\n",
       "    background-color: #EEEEEE; \n",
       "    color: black;\n",
       "}\n",
       "header {\n",
       "   padding-top: 35px;\n",
       "    padding-bottom: 35px;\n",
       "    text-align: left; \n",
       "    padding-left: 10px;\n",
       "    background-color: #DDDDDD; \n",
       "    color: black;\n",
       "}\n",
       "</style>\n",
       "\n"
      ],
      "text/plain": [
       "<IPython.core.display.HTML object>"
      ]
     },
     "execution_count": 195,
     "metadata": {},
     "output_type": "execute_result"
    }
   ],
   "source": [
    "## RUN THIS CELL TO PROPERLY HIGHLIGHT THE EXERCISES\n",
    "import requests\n",
    "from IPython.core.display import HTML\n",
    "styles = requests.get(\"https://raw.githubusercontent.com/Harvard-IACS/2018-CS109A/master/content/styles/cs109.css\").text\n",
    "HTML(styles)"
   ]
  },
  {
   "cell_type": "markdown",
   "metadata": {
    "slideshow": {
     "slide_type": "slide"
    }
   },
   "source": [
    "## Learning Goals\n",
    "In this lab, we'll explore different models used to predict which of several labels applies to a new datapoint based on labels observed in the training data. We'll similarly explore PCA as a technique for reducing the number of features in a dataset with as little loss of structure as possible.\n",
    "\n",
    "By the end of this lab, you should:\n",
    "- Be familiar with the `sklearn` implementations of\n",
    " - Logistic Regression\n",
    "- Be able to make an informed choice of model based on the data at hand\n",
    "- Be familiar with the SKlearn implementation of Principle Components Analysis (PCA)\n",
    "- Be able to select an appropriate number of PCA components\n",
    "- (Bonus) Structure your sklearn code into Pipelines to make building, fitting, and tracking your models easier\n",
    "- (Bonus) Apply weights to each class in the model to achieve your desired tradeoffs between discovery and false alarm in various classes"
   ]
  },
  {
   "cell_type": "code",
   "execution_count": 1,
   "metadata": {},
   "outputs": [],
   "source": [
    "%matplotlib inline\n",
    "import numpy as np\n",
    "import scipy as sp\n",
    "import matplotlib.pyplot as plt\n",
    "import pandas as pd\n",
    "pd.set_option('display.width', 500)\n",
    "pd.set_option('display.max_columns', 100)\n",
    "pd.set_option('display.notebook_repr_html', True)\n",
    "\n",
    "\n",
    "from sklearn.model_selection import train_test_split\n",
    "from sklearn.datasets import make_classification\n",
    "\n",
    "from sklearn.linear_model import LinearRegression, LogisticRegression\n",
    "\n",
    "from scipy.optimize import minimize"
   ]
  },
  {
   "cell_type": "markdown",
   "metadata": {
    "slideshow": {
     "slide_type": "slide"
    }
   },
   "source": [
    "## Part 2:  Alternate Loss Functions"
   ]
  },
  {
   "cell_type": "markdown",
   "metadata": {},
   "source": [
    "### Generating and Examining our Fake Data"
   ]
  },
  {
   "cell_type": "markdown",
   "metadata": {},
   "source": [
    "We still need the data we generated in Part 1. Fortunately because we used a `random_state` we can regenerate the same random data set."
   ]
  },
  {
   "cell_type": "code",
   "execution_count": 2,
   "metadata": {},
   "outputs": [],
   "source": [
    "fake_X, fake_y = make_classification(n_samples=200, n_features=2, n_informative=1, n_redundant=0, n_clusters_per_class=1, n_classes=2, flip_y=0.1, random_state=3423)"
   ]
  },
  {
   "cell_type": "code",
   "execution_count": 3,
   "metadata": {},
   "outputs": [
    {
     "data": {
      "image/png": "[encoded data removed]",
      "text/plain": [
       "<Figure size 720x432 with 1 Axes>"
      ]
     },
     "metadata": {
      "needs_background": "light"
     },
     "output_type": "display_data"
    }
   ],
   "source": [
    "plt.figure(figsize=(10, 6))\n",
    "plt.scatter(fake_X[fake_y == 0][:, 0], fake_X[fake_y == 0][:, 1], color='b', label='0')\n",
    "plt.scatter(fake_X[fake_y == 1][:, 0], fake_X[fake_y == 1][:, 1], color='r', label='1')\n",
    "plt.legend();"
   ]
  },
  {
   "cell_type": "markdown",
   "metadata": {},
   "source": [
    "Recall that we have two clusters of labeled points: once cluster shwon in red labeled 0 and another cluster shown in blue labeled 1.  Each cluster consists of a set of points in a feature space corresponding to $\\mathbb{R}^2$.  From casual inspection it looks like the points are somewhat well separated along the X-axis but not very well separated along the Y-axis.  Let's test this hypothesis."
   ]
  },
  {
   "cell_type": "code",
   "execution_count": 4,
   "metadata": {},
   "outputs": [],
   "source": [
    "def sigmoid(x):\n",
    "    '''Activation function used to map any real value between 0 and 1'''\n",
    "    return 1 / (1 + np.exp(-x))\n",
    "\n",
    "def sigmoid_prob(beta, x):\n",
    "    '''Gives the probability after passing feature vector x through sigmoid of parameters beta'''\n",
    "    return sigmoid(np.dot(x, beta))\n",
    "\n",
    "def add_constant(x):\n",
    "    '''Takes a feature vector x and adds a column of 1s'''\n",
    "    return np.append(np.ones((x.shape[0],1)), x, axis=1)"
   ]
  },
  {
   "cell_type": "code",
   "execution_count": 14,
   "metadata": {},
   "outputs": [],
   "source": [
    "data = np.linspace(-3,2,100).reshape(-1, 1)\n",
    "augmented_data = add_constant(data)"
   ]
  },
  {
   "cell_type": "markdown",
   "metadata": {},
   "source": [
    "### Solving Logistic Regression Manually with our Fake Data"
   ]
  },
  {
   "cell_type": "markdown",
   "metadata": {},
   "source": [
    "Recall that we defined a function for cross-entropy loss."
   ]
  },
  {
   "cell_type": "markdown",
   "metadata": {},
   "source": [
    "Exercise: Write a function `xent_loss`  that given beta coefficiients `beta`, a dataset `X` and binary labels `y` calculates the cross-entropy loss from using a logistic function with the given beta coefficients to classify the dataset `X`."
   ]
  },
  {
   "cell_type": "code",
   "execution_count": 5,
   "metadata": {},
   "outputs": [],
   "source": [
    "def xent_loss(beta, X, y):\n",
    "    '''Computes the cross entropy loss for samples and labels given in X and y'''\n",
    "    return -(1 / X.shape[0]) * np.sum(\n",
    "        y * np.log(sigmoid_prob(beta, X)) + (1 - y) * np.log(\n",
    "            1 - sigmoid_prob(beta, X)))\n"
   ]
  },
  {
   "cell_type": "markdown",
   "metadata": {},
   "source": [
    "Exercise: Write a function `mse_loss`  that given beta coefficients `beta`, a dataset `X` and binary labels `y` calculates the mse loss from using a logistic function with the given beta coefficients to classify the dataset `X`."
   ]
  },
  {
   "cell_type": "code",
   "execution_count": 6,
   "metadata": {},
   "outputs": [],
   "source": [
    "def mse_loss(beta, X, y):\n",
    "    '''Computes the mse loss for samples and labels given in X and y'''\n",
    "    return np.mean((y-sigmoid_prob(beta, X))**2)\n",
    "   "
   ]
  },
  {
   "cell_type": "markdown",
   "metadata": {},
   "source": [
    "Exercise: Write a function `misclass_loss`  that given beta coefficients `beta`, a dataset `X` and binary labels `y` calculates the misclassification loss from using a logistic function with the given beta coefficients to classify the dataset `X`."
   ]
  },
  {
   "cell_type": "code",
   "execution_count": 7,
   "metadata": {},
   "outputs": [],
   "source": [
    "def misclass_loss(beta, X, y):\n",
    "    '''Computes the misclassification loss for samples and labels given in X and y'''\n",
    "    return np.mean(1*(y == 1*(sigmoid_prob(beta, X) > 0.5)))\n",
    "   "
   ]
  },
  {
   "cell_type": "markdown",
   "metadata": {},
   "source": [
    "Now we'll use a lambda function to create a new function `fake_xent_loss`, `fake_mse_loss`, and  that will apply our loss function to our fake dataset we created above."
   ]
  },
  {
   "cell_type": "code",
   "execution_count": 8,
   "metadata": {},
   "outputs": [],
   "source": [
    "fake_xent_loss = lambda beta: xent_loss(beta, add_constant(fake_X[:,0].reshape(-1,1)), fake_y)\n",
    "fake_mse_loss = lambda beta: mse_loss(beta, add_constant(fake_X[:,0].reshape(-1,1)), fake_y)\n",
    "fake_misclass_loss = lambda beta: misclass_loss(beta, add_constant(fake_X[:,0].reshape(-1,1)), fake_y)"
   ]
  },
  {
   "cell_type": "markdown",
   "metadata": {},
   "source": [
    "Now let's use the `minimize` function from scipy to find the optimal parameters"
   ]
  },
  {
   "cell_type": "code",
   "execution_count": 11,
   "metadata": {},
   "outputs": [],
   "source": [
    "opt_fake_xent_params = minimize(fake_xent_loss, [0,0], method=\"Nelder-Mead\").x\n",
    "opt_fake_mse_params = minimize(fake_mse_loss, [0,0], method=\"Nelder-Mead\").x\n",
    "opt_fake_misclass_params = minimize(fake_misclass_loss, [0,0], method=\"Nelder-Mead\").x"
   ]
  },
  {
   "cell_type": "code",
   "execution_count": 12,
   "metadata": {},
   "outputs": [
    {
     "name": "stdout",
     "output_type": "stream",
     "text": [
      "Best MSE Loss params: [-1.92541755  8.59515261]\n",
      "Best X-Ent Loss params: [-0.23773429  2.65751123]\n",
      "Best Miss-Classification Loss params: [ 0.00011719 -0.00059375]\n"
     ]
    }
   ],
   "source": [
    "print(\"Best MSE Loss params: {}\".format(str(opt_fake_mse_params)))\n",
    "print(\"Best X-Ent Loss params: {}\".format(str(opt_fake_xent_params)))\n",
    "print(\"Best Miss-Classification Loss params: {}\".format(str(opt_fake_misclass_params)))"
   ]
  },
  {
   "cell_type": "markdown",
   "metadata": {},
   "source": [
    "Exercise: Plot the data overlayed on the logistic function from the manually calculated optimal parameters.  How well does the logistic function fit the data?"
   ]
  },
  {
   "cell_type": "code",
   "execution_count": 16,
   "metadata": {},
   "outputs": [
    {
     "data": {
      "image/png": "[encoded data removed]",
      "text/plain": [
       "<Figure size 720x432 with 1 Axes>"
      ]
     },
     "metadata": {
      "needs_background": "light"
     },
     "output_type": "display_data"
    }
   ],
   "source": [
    "plt.figure(figsize=(10, 6))\n",
    "plt.scatter(fake_X[fake_y == 0][:, 0], fake_y[fake_y == 0], color='b', label='0')\n",
    "plt.scatter(fake_X[fake_y == 1][:, 0], fake_y[fake_y == 1], color='r', label='1')\n",
    "plt.plot(data, sigmoid_prob(opt_fake_xent_params, augmented_data), color='yellow', label=\"X-Ent beta = \" + str(opt_fake_xent_params))\n",
    "plt.plot(data, sigmoid_prob(opt_fake_mse_params, augmented_data), color='orange', label=\"MSE beta = \" + str(opt_fake_mse_params))\n",
    "plt.plot(data, sigmoid_prob(opt_fake_misclass_params, augmented_data), color='purple', label=\"Misclass beta = \" + str(opt_fake_misclass_params))\n",
    "plt.legend();"
   ]
  },
  {
   "cell_type": "markdown",
   "metadata": {},
   "source": [
    "### Solving Logistic Regression for Heart Data"
   ]
  },
  {
   "cell_type": "markdown",
   "metadata": {},
   "source": [
    "Let's start by getting the heart data (stored in the Data folder)"
   ]
  },
  {
   "cell_type": "code",
   "execution_count": 22,
   "metadata": {},
   "outputs": [
    {
     "data": {
      "text/html": [
       "<div>\n",
       "<style scoped>\n",
       "    .dataframe tbody tr th:only-of-type {\n",
       "        vertical-align: middle;\n",
       "    }\n",
       "\n",
       "    .dataframe tbody tr th {\n",
       "        vertical-align: top;\n",
       "    }\n",
       "\n",
       "    .dataframe thead th {\n",
       "        text-align: right;\n",
       "    }\n",
       "</style>\n",
       "<table border=\"1\" class=\"dataframe\">\n",
       "  <thead>\n",
       "    <tr style=\"text-align: right;\">\n",
       "      <th></th>\n",
       "      <th>Unnamed: 0</th>\n",
       "      <th>age</th>\n",
       "      <th>sex</th>\n",
       "      <th>cp</th>\n",
       "      <th>trestbps</th>\n",
       "      <th>chol</th>\n",
       "      <th>fbs</th>\n",
       "      <th>restecg</th>\n",
       "      <th>MaxHR</th>\n",
       "      <th>exang</th>\n",
       "      <th>oldpeak</th>\n",
       "      <th>slope</th>\n",
       "      <th>ca</th>\n",
       "      <th>thal</th>\n",
       "      <th>AHD</th>\n",
       "    </tr>\n",
       "  </thead>\n",
       "  <tbody>\n",
       "    <tr>\n",
       "      <th>0</th>\n",
       "      <td>0</td>\n",
       "      <td>28</td>\n",
       "      <td>1</td>\n",
       "      <td>2</td>\n",
       "      <td>130</td>\n",
       "      <td>132</td>\n",
       "      <td>0</td>\n",
       "      <td>2</td>\n",
       "      <td>185</td>\n",
       "      <td>0</td>\n",
       "      <td>0.0</td>\n",
       "      <td>?</td>\n",
       "      <td>?</td>\n",
       "      <td>?</td>\n",
       "      <td>0</td>\n",
       "    </tr>\n",
       "    <tr>\n",
       "      <th>1</th>\n",
       "      <td>1</td>\n",
       "      <td>29</td>\n",
       "      <td>1</td>\n",
       "      <td>2</td>\n",
       "      <td>120</td>\n",
       "      <td>243</td>\n",
       "      <td>0</td>\n",
       "      <td>0</td>\n",
       "      <td>160</td>\n",
       "      <td>0</td>\n",
       "      <td>0.0</td>\n",
       "      <td>?</td>\n",
       "      <td>?</td>\n",
       "      <td>?</td>\n",
       "      <td>0</td>\n",
       "    </tr>\n",
       "    <tr>\n",
       "      <th>2</th>\n",
       "      <td>2</td>\n",
       "      <td>29</td>\n",
       "      <td>1</td>\n",
       "      <td>2</td>\n",
       "      <td>140</td>\n",
       "      <td>?</td>\n",
       "      <td>0</td>\n",
       "      <td>0</td>\n",
       "      <td>170</td>\n",
       "      <td>0</td>\n",
       "      <td>0.0</td>\n",
       "      <td>?</td>\n",
       "      <td>?</td>\n",
       "      <td>?</td>\n",
       "      <td>0</td>\n",
       "    </tr>\n",
       "    <tr>\n",
       "      <th>3</th>\n",
       "      <td>3</td>\n",
       "      <td>30</td>\n",
       "      <td>0</td>\n",
       "      <td>1</td>\n",
       "      <td>170</td>\n",
       "      <td>237</td>\n",
       "      <td>0</td>\n",
       "      <td>1</td>\n",
       "      <td>170</td>\n",
       "      <td>0</td>\n",
       "      <td>0.0</td>\n",
       "      <td>?</td>\n",
       "      <td>?</td>\n",
       "      <td>6</td>\n",
       "      <td>0</td>\n",
       "    </tr>\n",
       "    <tr>\n",
       "      <th>4</th>\n",
       "      <td>4</td>\n",
       "      <td>31</td>\n",
       "      <td>0</td>\n",
       "      <td>2</td>\n",
       "      <td>100</td>\n",
       "      <td>219</td>\n",
       "      <td>0</td>\n",
       "      <td>1</td>\n",
       "      <td>150</td>\n",
       "      <td>0</td>\n",
       "      <td>0.0</td>\n",
       "      <td>?</td>\n",
       "      <td>?</td>\n",
       "      <td>?</td>\n",
       "      <td>0</td>\n",
       "    </tr>\n",
       "  </tbody>\n",
       "</table>\n",
       "</div>"
      ],
      "text/plain": [
       "   Unnamed: 0  age  sex  cp  trestbps chol fbs restecg  MaxHR  exang  oldpeak slope ca thal  AHD\n",
       "0           0   28    1   2       130  132   0       2    185      0      0.0     ?  ?    ?    0\n",
       "1           1   29    1   2       120  243   0       0    160      0      0.0     ?  ?    ?    0\n",
       "2           2   29    1   2       140    ?   0       0    170      0      0.0     ?  ?    ?    0\n",
       "3           3   30    0   1       170  237   0       1    170      0      0.0     ?  ?    6    0\n",
       "4           4   31    0   2       100  219   0       1    150      0      0.0     ?  ?    ?    0"
      ]
     },
     "execution_count": 22,
     "metadata": {},
     "output_type": "execute_result"
    }
   ],
   "source": [
    "heart = pd.read_csv('../Data/heart.csv',)\n",
    "\n",
    "heart.head()"
   ]
  },
  {
   "cell_type": "code",
   "execution_count": 40,
   "metadata": {},
   "outputs": [],
   "source": [
    "xrange = np.linspace(80,200,1000).reshape(-1,1)\n",
    "augmented_xrange = add_constant(xrange)"
   ]
  },
  {
   "cell_type": "markdown",
   "metadata": {},
   "source": [
    "Exercise: Use sklearn Logistic Regression to model the atherosclerotic heart disease (AHD) based on the Maximum Heat Rate (MaxHR).  Show the  the optimal parameters.  Plot the resulting logistic function overlayed on the data.  How do the parameters from sklearn compare to those from the manual calculation?"
   ]
  },
  {
   "cell_type": "code",
   "execution_count": 36,
   "metadata": {},
   "outputs": [
    {
     "name": "stdout",
     "output_type": "stream",
     "text": [
      "Estimated beta1: \n",
      " [[-0.03209278]]\n",
      "Estimated beta0: \n",
      " [3.82605083]\n"
     ]
    }
   ],
   "source": [
    "\n",
    "from sklearn.linear_model import LogisticRegression\n",
    "\n",
    "data_x = heart.MaxHR\n",
    "data_y = heart.AHD\n",
    "\n",
    "logreg = LogisticRegression(C=10000, fit_intercept=True, solver='lbfgs')\n",
    "logreg.fit(data_x.values.reshape(-1,1), data_y)\n",
    "\n",
    "print('Estimated beta1: \\n', logreg.coef_)\n",
    "print('Estimated beta0: \\n', logreg.intercept_)\n",
    "\n",
    "beta_hr = list(logreg.intercept_) + list(logreg.coef_[0])"
   ]
  },
  {
   "cell_type": "code",
   "execution_count": 41,
   "metadata": {},
   "outputs": [
    {
     "data": {
      "image/png": "[encoded data removed]",
      "text/plain": [
       "<Figure size 720x432 with 1 Axes>"
      ]
     },
     "metadata": {
      "needs_background": "light"
     },
     "output_type": "display_data"
    }
   ],
   "source": [
    "plt.figure(figsize=(10, 6))\n",
    "plt.scatter(data_x[data_y == 0], data_y[data_y == 0], color='b', label='0')\n",
    "plt.scatter(data_x[data_y == 1], data_y[data_y == 1], color='r', label='1')\n",
    "plt.plot(xrange, sigmoid_prob(beta_hr, augmented_xrange), color='yellow', label=\"beta = \" + str(beta_hr))\n",
    "plt.legend();"
   ]
  },
  {
   "cell_type": "markdown",
   "metadata": {},
   "source": [
    "To complicate things, let's fit a Logistic regresion with two predictors and interprete their parameters. Use MaxHR and sex"
   ]
  },
  {
   "cell_type": "code",
   "execution_count": 51,
   "metadata": {},
   "outputs": [
    {
     "name": "stdout",
     "output_type": "stream",
     "text": [
      "Estimated beta1, beta2: \n",
      " [[-0.03147952  1.45518253]]\n",
      "Estimated beta0: \n",
      " [2.60972034]\n"
     ]
    }
   ],
   "source": [
    "\n",
    "from sklearn.linear_model import LogisticRegression\n",
    "\n",
    "data_x = heart[['MaxHR', 'sex']].values\n",
    "data_y = heart.AHD\n",
    "\n",
    "logreg2 = LogisticRegression(C=10000, fit_intercept=True, solver='lbfgs')\n",
    "logreg2.fit(data_x, data_y)\n",
    "\n",
    "print('Estimated beta1, beta2: \\n', logreg2.coef_)\n",
    "print('Estimated beta0: \\n', logreg2.intercept_)"
   ]
  },
  {
   "cell_type": "code",
   "execution_count": 52,
   "metadata": {},
   "outputs": [
    {
     "data": {
      "text/plain": [
       "[2.609720343275758, -0.03147952429903578, 1.4551825312715678]"
      ]
     },
     "execution_count": 52,
     "metadata": {},
     "output_type": "execute_result"
    }
   ],
   "source": [
    "lr2_opt_params = list(logreg2.intercept_) + list(logreg2.coef_[0])\n",
    "lr2_opt_params"
   ]
  },
  {
   "cell_type": "markdown",
   "metadata": {},
   "source": [
    "Let's plot the decision boundary"
   ]
  },
  {
   "cell_type": "code",
   "execution_count": 53,
   "metadata": {},
   "outputs": [
    {
     "data": {
      "image/png": "[encoded data removed]",
      "text/plain": [
       "<Figure size 720x432 with 1 Axes>"
      ]
     },
     "metadata": {
      "needs_background": "light"
     },
     "output_type": "display_data"
    }
   ],
   "source": [
    "x_values = np.linspace(np.min(data_x[:, 0]), np.max(data_x[:, 0]), 200)\n",
    "y_values = - (lr2_opt_params[0] + np.dot(lr2_opt_params[1], x_values)) / lr2_opt_params[2]\n",
    "\n",
    "plt.figure(figsize=(10, 6))\n",
    "plt.scatter(data_x[data_y == 0][:, 0], data_x[data_y == 0][:, 1], color='b', label='0')\n",
    "plt.scatter(data_x[data_y == 1][:, 0], data_x[data_y == 1][:, 1], color='r', label='1')\n",
    "plt.plot(x_values, y_values, label='Decision Boundary')\n",
    "\n",
    "plt.legend();"
   ]
  },
  {
   "cell_type": "markdown",
   "metadata": {},
   "source": [
    "**Logistic as Probabilities**"
   ]
  },
  {
   "cell_type": "code",
   "execution_count": 54,
   "metadata": {},
   "outputs": [
    {
     "data": {
      "image/png": "[encoded data removed]",
      "text/plain": [
       "<Figure size 432x288 with 1 Axes>"
      ]
     },
     "metadata": {
      "needs_background": "light"
     },
     "output_type": "display_data"
    }
   ],
   "source": [
    "def logR(x, b1, b0):\n",
    "    return 1/(1+np.exp(-(x*b1+b0)))\n",
    "\n",
    "\n",
    "def plot_logR(x, b1, b0, print_betas=False):\n",
    "    output = logR(input,b1,b0)\n",
    "    #plt.xkcd(scale=0.6, length=0.0)\n",
    "    plt.plot(input, output)\n",
    "    if print_betas:\n",
    "        plt.title(r'$\\beta_1=%.2f$;  $\\beta_0=%.2f$' % (b1, b0))\n",
    "    else:\n",
    "        plt.title(r'$\\beta_1=?$;  $\\beta_0=?$')\n",
    "    plt.ylabel(r'Heart Disease Probability $P(Y=1)$')\n",
    "    plt.xlabel('Max Heart Rate')\n",
    "    plt.tight_layout()\n",
    "    plt.grid()\n",
    "    plt.show()\n",
    "\n",
    "input= np.linspace(100,160,1000)\n",
    "b1 = 0.2\n",
    "output = plot_logR(input,b1,-130*b1, True)"
   ]
  },
  {
   "cell_type": "markdown",
   "metadata": {},
   "source": [
    "Which estimates the probability of having a Hear Disease, given the MAX Heart Rate of a subject."
   ]
  },
  {
   "cell_type": "markdown",
   "metadata": {},
   "source": [
    "Create a function that given a $Max Heart Rate$ value, generate $N$ patientes that are either healthy (0) or have a Heart Disease (1). To do so, you should sample from a bernoulli distribution and extract the parameter that defines that bernoulli distribution from the Logistic Regresion output."
   ]
  },
  {
   "cell_type": "code",
   "execution_count": 55,
   "metadata": {},
   "outputs": [],
   "source": [
    "def bernoulli_sampler(MaxHeartRate, N_patients, b1, b0):\n",
    "    p_bernoulli = output = logR(MaxHeartRate, b1, b0)\n",
    "    probabilities = np.random.uniform(size=N_patients)\n",
    "    bernoulli_samples = 1*(probabilities<p_bernoulli)\n",
    "    return bernoulli_samples"
   ]
  },
  {
   "cell_type": "markdown",
   "metadata": {},
   "source": [
    "For $Max Heart Rate={100, 120, 130, 150}$ generate a population of 100 patients, for every $Max Heart Rate$"
   ]
  },
  {
   "cell_type": "code",
   "execution_count": 56,
   "metadata": {},
   "outputs": [
    {
     "name": "stdout",
     "output_type": "stream",
     "text": [
      "[0 0 0 0 0 0 0 0 0 0 0 0 0 0 0 0 0 0 0 0 0 0 0 0 0 0 0 0 0 0 0 0 0 0 0 0 0\n",
      " 0 0 0 0 0 0 0 0 0 0 0 0 0 0 0 0 0 0 0 0 0 0 0 0 0 0 0 0 0 0 0 0 0 0 0 0 0\n",
      " 0 0 0 0 0 0 0 0 0 0 0 0 0 0 0 0 0 0 0 0 0 0 0 0 0 0]\n",
      "[0 0 0 0 1 0 0 0 0 0 0 0 0 0 0 1 0 0 0 0 0 1 1 0 0 0 0 0 0 0 0 0 0 0 0 0 0\n",
      " 0 0 0 0 1 0 0 0 0 0 0 0 0 0 0 1 0 0 1 0 1 0 0 0 0 0 0 1 0 0 1 0 0 1 0 0 0\n",
      " 1 0 0 0 0 0 0 0 0 0 1 0 0 0 0 0 1 0 0 0 0 0 0 0 0 0]\n",
      "[1 1 0 0 0 0 1 0 0 1 1 0 0 0 1 1 1 0 0 0 0 0 1 1 0 0 1 0 0 1 0 1 0 1 1 1 0\n",
      " 0 0 0 1 0 1 1 1 0 0 1 1 1 0 0 1 1 0 1 0 1 0 0 1 0 0 1 1 1 1 1 0 1 0 0 0 0\n",
      " 1 0 0 1 1 0 0 0 1 1 1 0 0 0 0 0 0 1 0 0 1 1 0 1 0 0]\n",
      "[1 1 1 1 1 1 1 1 1 1 1 1 1 1 1 1 1 1 1 1 1 1 1 1 1 1 1 1 1 1 1 1 1 1 1 1 1\n",
      " 1 1 1 1 1 1 1 1 1 1 1 1 1 1 1 1 1 1 1 1 1 1 1 1 1 1 1 1 1 1 1 1 1 1 1 1 1\n",
      " 1 1 1 1 1 1 1 1 1 1 1 1 1 1 1 1 1 1 1 1 1 1 1 1 1 1]\n"
     ]
    }
   ],
   "source": [
    "n_patients = 100\n",
    "print(bernoulli_sampler(100,n_patients,b1,-130*b1))\n",
    "print(bernoulli_sampler(120,n_patients,b1,-130*b1))\n",
    "print(bernoulli_sampler(130,n_patients,b1,-130*b1))\n",
    "print(bernoulli_sampler(150,n_patients,b1,-130*b1))"
   ]
  },
  {
   "cell_type": "markdown",
   "metadata": {},
   "source": [
    "For every population that you previously generated calulate it's probability of choosing a patient with a Heart Disease"
   ]
  },
  {
   "cell_type": "code",
   "execution_count": 25,
   "metadata": {},
   "outputs": [
    {
     "name": "stdout",
     "output_type": "stream",
     "text": [
      "0.01\n",
      "0.12\n",
      "0.52\n",
      "0.98\n"
     ]
    }
   ],
   "source": [
    "print(np.mean(bernoulli_sampler(100,n_patients,b1,-130*b1)))\n",
    "print(np.mean(bernoulli_sampler(120,n_patients,b1,-130*b1)))\n",
    "print(np.mean(bernoulli_sampler(130,n_patients,b1,-130*b1)))\n",
    "print(np.mean(bernoulli_sampler(150,n_patients,b1,-130*b1)))"
   ]
  },
  {
   "cell_type": "code",
   "execution_count": null,
   "metadata": {},
   "outputs": [],
   "source": []
  }
 ],
 "metadata": {
  "anaconda-cloud": {},
  "celltoolbar": "Slideshow",
  "kernelspec": {
   "display_name": "Python 3",
   "language": "python",
   "name": "python3"
  },
  "language_info": {
   "codemirror_mode": {
    "name": "ipython",
    "version": 3
   },
   "file_extension": ".py",
   "mimetype": "text/x-python",
   "name": "python",
   "nbconvert_exporter": "python",
   "pygments_lexer": "ipython3",
   "version": "3.6.8"
  }
 },
 "nbformat": 4,
 "nbformat_minor": 2
}
