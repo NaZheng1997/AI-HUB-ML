{
 "cells": [
  {
   "cell_type": "markdown",
   "metadata": {
    "slideshow": {
     "slide_type": "slide"
    }
   },
   "source": [
    "# <img style=\"float: left; padding-right: 10px; width: 45px\"> GEC AI HUB: Introduction to Data Science and Machine Learning\n",
    "\n",
    "\n",
    "\n",
    "## Lab 1: Classification and Dimensionality Reduction \n",
    "\n",
    "**GEC AI Hub**<br>\n",
    "**Summer 2019**<br>\n",
    "**Instructors:** Pavlos Protopapas<br>\n",
    "**Lab Instructors:** Patrick Ohiomoba and Esteban Reyes<br>\n",
    "\n",
    "---"
   ]
  },
  {
   "cell_type": "code",
   "execution_count": 34,
   "metadata": {},
   "outputs": [
    {
     "data": {
      "text/html": [
       "<style>\n",
       "h1 { \n",
       "    padding-top: 25px;\n",
       "    padding-bottom: 25px;\n",
       "    text-align: left; \n",
       "    padding-left: 10px;\n",
       "    background-color: #DDDDDD; \n",
       "    color: black;\n",
       "}\n",
       "h2 { \n",
       "    padding-top: 10px;\n",
       "    padding-bottom: 10px;\n",
       "    text-align: left; \n",
       "    padding-left: 5px;\n",
       "    background-color: #EEEEEE; \n",
       "    color: black;\n",
       "}\n",
       "\n",
       "div.exercise {\n",
       "\tbackground-color: #ffcccc;\n",
       "\tborder-color: #E9967A; \t\n",
       "\tborder-left: 5px solid #800080; \n",
       "\tpadding: 0.5em;\n",
       "}\n",
       "div.theme {\n",
       "\tbackground-color: #DDDDDD;\n",
       "\tborder-color: #E9967A; \t\n",
       "\tborder-left: 5px solid #800080; \n",
       "\tpadding: 0.5em;\n",
       "\tfont-size: 18pt;\n",
       "}\n",
       "p.q1 { \n",
       "    padding-top: 5px;\n",
       "    padding-bottom: 5px;\n",
       "    text-align: left; \n",
       "    padding-left: 5px;\n",
       "    background-color: #EEEEEE; \n",
       "    color: black;\n",
       "}\n",
       "header {\n",
       "   padding-top: 35px;\n",
       "    padding-bottom: 35px;\n",
       "    text-align: left; \n",
       "    padding-left: 10px;\n",
       "    background-color: #DDDDDD; \n",
       "    color: black;\n",
       "}\n",
       "</style>\n",
       "\n"
      ],
      "text/plain": [
       "<IPython.core.display.HTML object>"
      ]
     },
     "execution_count": 34,
     "metadata": {},
     "output_type": "execute_result"
    }
   ],
   "source": [
    "## RUN THIS CELL TO PROPERLY HIGHLIGHT THE EXERCISES\n",
    "import requests\n",
    "from IPython.core.display import HTML\n",
    "styles = requests.get(\"https://raw.githubusercontent.com/Harvard-IACS/2018-CS109A/master/content/styles/cs109.css\").text\n",
    "HTML(styles)"
   ]
  },
  {
   "cell_type": "markdown",
   "metadata": {
    "slideshow": {
     "slide_type": "slide"
    }
   },
   "source": [
    "## Learning Goals\n",
    "In this lab, we'll explore different models used to predict which of several labels applies to a new datapoint based on labels observed in the training data. We'll similarly explore PCA as a technique for reducing the number of features in a dataset with as little loss of structure as possible.\n",
    "\n",
    "By the end of this lab, you should:\n",
    "- Be familiar with the `sklearn` implementations of\n",
    " - Logistic Regression\n",
    "- Be able to make an informed choice of model based on the data at hand\n",
    "- Be familiar with the SKlearn implementation of Principle Components Analysis (PCA)\n",
    "- Be able to select an appropriate number of PCA components\n",
    "- (Bonus) Structure your sklearn code into Pipelines to make building, fitting, and tracking your models easier\n",
    "- (Bonus) Apply weights to each class in the model to achieve your desired tradeoffs between discovery and false alarm in various classes"
   ]
  },
  {
   "cell_type": "code",
   "execution_count": 5,
   "metadata": {},
   "outputs": [],
   "source": [
    "%matplotlib inline\n",
    "import numpy as np\n",
    "import scipy as sp\n",
    "import matplotlib.pyplot as plt\n",
    "import pandas as pd\n",
    "pd.set_option('display.width', 500)\n",
    "pd.set_option('display.max_columns', 100)\n",
    "pd.set_option('display.notebook_repr_html', True)\n",
    "\n",
    "from sklearn.model_selection import train_test_split\n",
    "from sklearn.datasets import make_classification\n",
    "\n",
    "from sklearn.linear_model import LinearRegression, LogisticRegression\n",
    "\n",
    "from scipy.optimize import minimize"
   ]
  },
  {
   "cell_type": "markdown",
   "metadata": {
    "slideshow": {
     "slide_type": "slide"
    }
   },
   "source": [
    "## Part 1:  Learning about Logistic Regression on Fake data"
   ]
  },
  {
   "cell_type": "markdown",
   "metadata": {},
   "source": [
    "### Generating and Examining our Fake Data"
   ]
  },
  {
   "cell_type": "markdown",
   "metadata": {},
   "source": [
    "We'll start by using some functionality within sklearn to generate fake labelled classification data in 1 dimension in order to get good intuition on why and how to use logistic regression for classification purposes in 1d.  For this purpose we'll be using the `make_classification` function in sklearn's datasets module."
   ]
  },
  {
   "cell_type": "code",
   "execution_count": 7,
   "metadata": {},
   "outputs": [],
   "source": [
    "fake_X, fake_y = make_classification(n_samples=200, n_features=2, n_informative=1, n_redundant=0, n_clusters_per_class=1, n_classes=2, flip_y=0.1, random_state=3423)"
   ]
  },
  {
   "cell_type": "code",
   "execution_count": 8,
   "metadata": {},
   "outputs": [
    {
     "data": {
      "image/png": "[encoded data removed]",
      "text/plain": [
       "<Figure size 720x432 with 1 Axes>"
      ]
     },
     "metadata": {
      "needs_background": "light"
     },
     "output_type": "display_data"
    }
   ],
   "source": [
    "plt.figure(figsize=(10, 6))\n",
    "plt.scatter(fake_X[fake_y == 0][:, 0], fake_X[fake_y == 0][:, 1], color='b', label='0')\n",
    "plt.scatter(fake_X[fake_y == 1][:, 0], fake_X[fake_y == 1][:, 1], color='r', label='1')\n",
    "plt.legend();"
   ]
  },
  {
   "cell_type": "markdown",
   "metadata": {},
   "source": [
    "As you see, we have two clusters of labeled points: once cluster shwon in red labeled 0 and another cluster shown in blue labeled 1.  Each cluster consists of a set of points in a feature space corresponding to $\\mathbb{R}^2$.  From casual inspection it looks like the points are somewhat well separated along the X-axis but not very well separated along the Y-axis.  Let's test this hypothesis."
   ]
  },
  {
   "cell_type": "markdown",
   "metadata": {},
   "source": [
    "Exercise: Visualize the separation of the points along each feature.  Show points for each class in different colors"
   ]
  },
  {
   "cell_type": "code",
   "execution_count": 4,
   "metadata": {},
   "outputs": [
    {
     "data": {
      "text/plain": [
       "<Figure size 720x432 with 0 Axes>"
      ]
     },
     "metadata": {},
     "output_type": "display_data"
    }
   ],
   "source": [
    "plt.figure(figsize=(10, 6));\n",
    "\n",
    "# Your Code here"
   ]
  },
  {
   "cell_type": "markdown",
   "metadata": {},
   "source": [
    "You should be able to see that along the X-axis, the points are pretty separated around the boundary point X=0.3.  Along the Y-axis however there is not boundary point that separates the the points into 2 classes."
   ]
  },
  {
   "cell_type": "markdown",
   "metadata": {},
   "source": [
    "### Linear Regression with the X-component of our Fake Data"
   ]
  },
  {
   "cell_type": "markdown",
   "metadata": {},
   "source": [
    "We've already learned about Linear Regression, so let's take a look at using linear regression to classify the data.  We'll use linear regression to choose a best fit (using the probability of being in our 1 and 0 classes as response variable regression values).  Then we'll classify all points for which the resultant model predicts a value above a certain threshold as belonging to class 1 and similarly we'll classify all points for which the resultant model predicts a value below a certain threshold as belonging to class 0.  Use sklearn's `LinearRegression` class to generate the linear regression model as described above.  Use only the X-component (the 0th component) of `fake_X` features as features in your linear regression model.  What's the appropriate threshold?"
   ]
  },
  {
   "cell_type": "markdown",
   "metadata": {},
   "source": [
    "Exercise: Implement the linear regression model"
   ]
  },
  {
   "cell_type": "code",
   "execution_count": 9,
   "metadata": {},
   "outputs": [],
   "source": [
    "# Your code here\n",
    "\n"
   ]
  },
  {
   "cell_type": "markdown",
   "metadata": {},
   "source": [
    "All the problems mentioned in Lecture apply here.  Though we'd like our linear regression model to predict the probability that some our data points belong to a particular class, but for some of the data points this leads to non-interpretable values for class prediction probabilities.  In particular, our linear regression model predicts probabilities less than 0 and greater than 1 which is obviously problematic.  If we do use a threshold value to turn the predictions from our regression model into a class prediction, we can threshold at 0.5.  All data points for which our regression model predicts a value of less than 0.5 are classified as '0' and all other data points are classified as '1'."
   ]
  },
  {
   "cell_type": "markdown",
   "metadata": {},
   "source": [
    "### Logistic Regression with the X-component of our Fake Data"
   ]
  },
  {
   "cell_type": "markdown",
   "metadata": {},
   "source": [
    "Let's use logistic regression to model the X-component of our fake data.  We'll start by examining what the logistic function looks like with various parameters overlaid on our data."
   ]
  },
  {
   "cell_type": "code",
   "execution_count": 89,
   "metadata": {},
   "outputs": [],
   "source": [
    "def sigmoid(x):\n",
    "    '''Activation function used to map any real value between 0 and 1'''\n",
    "    return 1 / (1 + np.exp(-x))\n",
    "\n",
    "def sigmoid_prob(beta, x):\n",
    "    '''Gives the probability after passing feature vector x through sigmoid of parameters beta'''\n",
    "    return sigmoid(np.dot(x, beta))\n",
    "\n",
    "def add_constant(x):\n",
    "    '''Takes a feature vector x and adds a column of 1s'''\n",
    "    return np.append(np.ones((x.shape[0],1)), x, axis=1)"
   ]
  },
  {
   "cell_type": "markdown",
   "metadata": {},
   "source": [
    "Let's first start by generating 100 equally spaced points in our feature space (Let's call it from -3 to 2).  We'll use the trick we saw from linear regression of adding a column of ones to our data points so that we can apply the sigmoid to a dot product of our augmented data points and our beta parameters. "
   ]
  },
  {
   "cell_type": "code",
   "execution_count": 106,
   "metadata": {},
   "outputs": [],
   "source": [
    "data = np.linspace(-3,2,100).reshape(-1, 1)\n",
    "augmented_data = add_constant(data)"
   ]
  },
  {
   "cell_type": "markdown",
   "metadata": {},
   "source": [
    "Now let's plot the logistic function for the following 3 sets of beta parameters in which the first component $\\beta_0$ varies.  How does varying $\\beta_0$ affect the fit of the resulting logistic function?  Which of the three parameters is the best fit?"
   ]
  },
  {
   "cell_type": "code",
   "execution_count": 108,
   "metadata": {},
   "outputs": [],
   "source": [
    "beta_1 = [.2, 10]\n",
    "beta_2 = [-10, 10]\n",
    "beta_3 = [10, 10]"
   ]
  },
  {
   "cell_type": "code",
   "execution_count": 107,
   "metadata": {},
   "outputs": [
    {
     "data": {
      "image/png": "[encoded data removed]",
      "text/plain": [
       "<Figure size 720x432 with 1 Axes>"
      ]
     },
     "metadata": {
      "needs_background": "light"
     },
     "output_type": "display_data"
    }
   ],
   "source": [
    "plt.figure(figsize=(10, 6))\n",
    "plt.scatter(fake_X[fake_y == 0][:, 0], fake_y[fake_y == 0], color='b', label='0')\n",
    "plt.scatter(fake_X[fake_y == 1][:, 0], fake_y[fake_y == 1], color='r', label='1')\n",
    "plt.plot(data, sigmoid_prob(beta_1, augmented_data), color='yellow', label=\"beta = \" + str(beta_1))\n",
    "plt.plot(data, sigmoid_prob(beta_2, augmented_data), color='brown', label=\"beta = \" + str(beta_2))\n",
    "plt.plot(data, sigmoid_prob(beta_3, augmented_data), color='orange', label=\"beta = \" + str(beta_3))\n",
    "plt.legend();"
   ]
  },
  {
   "cell_type": "markdown",
   "metadata": {},
   "source": [
    "Exercise: Now let's plot the logistic function for the following 3 sets of beta parameters in which the first component $\\beta_0$ is the same as above but we've chosen a different fixed $\\beta_1$ parameter.  How does varying $\\beta_0$ affect the fit of the resulting logistic function?  Which of the three parameters is the best fit?"
   ]
  },
  {
   "cell_type": "code",
   "execution_count": 128,
   "metadata": {},
   "outputs": [],
   "source": [
    "beta_1 = [.2, 6]\n",
    "beta_2 = [-10, 6]\n",
    "beta_3 = [10, 6]"
   ]
  },
  {
   "cell_type": "code",
   "execution_count": 132,
   "metadata": {},
   "outputs": [],
   "source": [
    "# Your code here"
   ]
  },
  {
   "cell_type": "markdown",
   "metadata": {},
   "source": [
    "Exercise: Now let's plot the logistic function for the following 3 sets of beta parameters in which the first component $\\beta_0$ is the same as above but we've chosen a different fixed $\\beta_1$ parameter.  How does varying $\\beta_0$ affect the fit of the resulting logistic function?  Which of the three parameters is the best fit?"
   ]
  },
  {
   "cell_type": "code",
   "execution_count": 132,
   "metadata": {},
   "outputs": [],
   "source": [
    "beta_1 = [.2, 20]\n",
    "beta_2 = [-10,20]\n",
    "beta_3 = [10, 20]"
   ]
  },
  {
   "cell_type": "code",
   "execution_count": 132,
   "metadata": {},
   "outputs": [],
   "source": [
    "# Your code here"
   ]
  },
  {
   "cell_type": "markdown",
   "metadata": {},
   "source": [
    "**Discussion**:  Can you explain the changes in the logistic function for the experiments you tried above in terms of the log odds ratio as discussed in lecture?"
   ]
  },
  {
   "cell_type": "markdown",
   "metadata": {},
   "source": [
    "Exercise: Now let's  plot the logistic function for the following 3 sets beta parameters in which the second parameter $\\beta_1$ changes.  How does varying $\\beta_1$ affect the fit of the resulting logistic functions.  Which of the three parameters is the best fit? "
   ]
  },
  {
   "cell_type": "code",
   "execution_count": 134,
   "metadata": {},
   "outputs": [],
   "source": [
    "beta_1 = [ -2, 1]\n",
    "beta_2 = [ -2, 4]\n",
    "beta_3 = [ -2, 10]"
   ]
  },
  {
   "cell_type": "markdown",
   "metadata": {},
   "source": [
    "### Solving Logistic Regression Manually with our Fake Data"
   ]
  },
  {
   "cell_type": "markdown",
   "metadata": {},
   "source": [
    "As noted in lecture, finding the optimal solution for the logistic regression cost-function is non-trivial problem analytically.  Fortunately we can use approximate optimization methods.  Let's use the `minimize` function from scipy to calculate the optimal $\\beta$ parameters.  First we'll construct a function to define our loss."
   ]
  },
  {
   "cell_type": "markdown",
   "metadata": {},
   "source": [
    "Exercise: Write a function `xent_loss`  that given beta coefficiients `beta`, a dataset `X` and binary labels `y` calculates the cross-entropy loss from using a logistic function with the given beta coefficients to classify the dataset `X`."
   ]
  },
  {
   "cell_type": "code",
   "execution_count": 147,
   "metadata": {},
   "outputs": [],
   "source": [
    "def xent_loss(beta, X, y):\n",
    "    '''Computes the cross entropy loss for samples and labels given in X and y'''\n",
    "    \n",
    "    # Your code here\n",
    "    pass"
   ]
  },
  {
   "cell_type": "markdown",
   "metadata": {},
   "source": [
    "Now we'll use a lambda function to create a new function `fake_loss` that will apply our loss function to our fake dataset we created above."
   ]
  },
  {
   "cell_type": "code",
   "execution_count": 148,
   "metadata": {},
   "outputs": [],
   "source": [
    "fake_loss = lambda beta: xent_loss(beta, add_constant(fake_X[:,0].reshape(-1,1)), fake_y)"
   ]
  },
  {
   "cell_type": "markdown",
   "metadata": {},
   "source": [
    "Now let's use the `minimize` function from scipy to find the optimal parameters"
   ]
  },
  {
   "cell_type": "code",
   "execution_count": null,
   "metadata": {},
   "outputs": [],
   "source": [
    "opt_fake_params = minimize(fake_loss, beta_1, method=\"Nelder-Mead\").x\n",
    "\n",
    "opt_fake_params"
   ]
  },
  {
   "cell_type": "markdown",
   "metadata": {},
   "source": [
    "Exercise:  Plot the data overlayed on the logistic function from the manually calculated optimal parameters.  How well does the logistic function fit the data?"
   ]
  },
  {
   "cell_type": "code",
   "execution_count": 132,
   "metadata": {},
   "outputs": [],
   "source": [
    "# Your code here"
   ]
  },
  {
   "cell_type": "markdown",
   "metadata": {},
   "source": [
    "### Solving Logistic Regression for our Fake Data with SKLearn"
   ]
  },
  {
   "cell_type": "markdown",
   "metadata": {},
   "source": [
    "We can use sklearn to create a logistic regression model to directly calculate the optimal parameters.  Like the Linear Regression model, sklearn's logistic regression model is in its `linear_model` module."
   ]
  },
  {
   "cell_type": "markdown",
   "metadata": {},
   "source": [
    "Exercise: Use sklearn.linear_models.LogisticRegression to calculate the optimal parameters.  Plot the resulting logistic function overlayed on the data.  How do the parameters from sklearn compare to those from the manual calculation?"
   ]
  },
  {
   "cell_type": "code",
   "execution_count": 132,
   "metadata": {},
   "outputs": [],
   "source": [
    "# Your code here"
   ]
  },
  {
   "cell_type": "markdown",
   "metadata": {},
   "source": [
    "We should see great agreement between the two methods of calculating the Logistic Regession Parameters."
   ]
  },
  {
   "cell_type": "markdown",
   "metadata": {},
   "source": [
    "Use sklearn to calculate a logistic regression model for the entire fake dataset created (including both features).  What are the optimal parameters?"
   ]
  },
  {
   "cell_type": "code",
   "execution_count": 172,
   "metadata": {},
   "outputs": [
    {
     "data": {
      "text/plain": [
       "LogisticRegression(C=100000, class_weight=None, dual=False,\n",
       "          fit_intercept=True, intercept_scaling=1, max_iter=100,\n",
       "          multi_class='warn', n_jobs=None, penalty='l2', random_state=None,\n",
       "          solver='lbfgs', tol=0.0001, verbose=0, warm_start=False)"
      ]
     },
     "execution_count": 172,
     "metadata": {},
     "output_type": "execute_result"
    }
   ],
   "source": [
    "fake_lr2 = LogisticRegression(C=100000, fit_intercept=True, solver='lbfgs')\n",
    "fake_lr2.fit(fake_X, fake_y)"
   ]
  },
  {
   "cell_type": "code",
   "execution_count": 177,
   "metadata": {},
   "outputs": [
    {
     "data": {
      "text/plain": [
       "[-0.258919403400393, 2.925811643766417, 0.6242667647204853]"
      ]
     },
     "execution_count": 177,
     "metadata": {},
     "output_type": "execute_result"
    }
   ],
   "source": [
    "lr2_opt_params = list(fake_lr2.intercept_) + list(fake_lr2.coef_[0])\n",
    "lr2_opt_params"
   ]
  },
  {
   "cell_type": "markdown",
   "metadata": {},
   "source": [
    "Let's plot the decision boundary"
   ]
  },
  {
   "cell_type": "code",
   "execution_count": 185,
   "metadata": {},
   "outputs": [
    {
     "data": {
      "text/plain": [
       "<matplotlib.legend.Legend at 0x7f281a5c9d68>"
      ]
     },
     "execution_count": 185,
     "metadata": {},
     "output_type": "execute_result"
    },
    {
     "data": {
      "image/png": "[encoded data removed]",
      "text/plain": [
       "<Figure size 720x432 with 1 Axes>"
      ]
     },
     "metadata": {
      "needs_background": "light"
     },
     "output_type": "display_data"
    }
   ],
   "source": [
    "x_values = np.linspace(np.min(fake_X[:, 0]), np.max(fake_X[:, 0]), 200)\n",
    "y_values = - (lr2_opt_params[0] + np.dot(lr2_opt_params[1], x_values)) / lr2_opt_params[2]\n",
    "\n",
    "plt.figure(figsize=(10, 6))\n",
    "plt.scatter(fake_X[fake_y == 0][:, 0], fake_X[fake_y == 0][:, 1], color='b', label='0')\n",
    "plt.scatter(fake_X[fake_y == 1][:, 0], fake_X[fake_y == 1][:, 1], color='r', label='1')\n",
    "plt.plot(x_values, y_values, label='Decision Boundary')\n",
    "\n",
    "plt.legend();"
   ]
  },
  {
   "cell_type": "markdown",
   "metadata": {
    "slideshow": {
     "slide_type": "slide"
    }
   },
   "source": [
    "#### Summary\n",
    "- Logistic regression extends OLS to work naturally with a dependent variable that's only ever 0 and 1.\n",
    "- In fact, Logistic regression is even more general and is used for predicting the probability of an example belonging to each of $N$ classes.\n",
    "- The code for the two cases is identical and just like `LinearRegression`: `.fit`, `.score`, and all the rest\n",
    "- Significant predictors does not imply that the model actually works well. Signifigance can be driven by data size alone.\n",
    "- The data aren't enough to do what we want\n",
    "\n",
    "**Warning**: Logistic regression _tries_ to hand back valid probabilities. As with all models, you can't trust the results until you validate them- if you're going to use raw probabilities instead of just predicted class, take the time to verify that if you pool all cases where the model says \"I'm 30% confident it's class A\" 30% of them actually are class A."
   ]
  }
 ],
 "metadata": {
  "anaconda-cloud": {},
  "celltoolbar": "Slideshow",
  "kernelspec": {
   "display_name": "Python 3",
   "language": "python",
   "name": "python3"
  },
  "language_info": {
   "codemirror_mode": {
    "name": "ipython",
    "version": 3
   },
   "file_extension": ".py",
   "mimetype": "text/x-python",
   "name": "python",
   "nbconvert_exporter": "python",
   "pygments_lexer": "ipython3",
   "version": "3.7.3"
  }
 },
 "nbformat": 4,
 "nbformat_minor": 2
}
