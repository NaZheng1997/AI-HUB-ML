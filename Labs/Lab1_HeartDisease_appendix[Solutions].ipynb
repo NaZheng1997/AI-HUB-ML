{
 "cells": [
  {
   "cell_type": "markdown",
   "metadata": {},
   "source": [
    "Assume that you have the logistic regression model"
   ]
  },
  {
   "cell_type": "code",
   "execution_count": 5,
   "metadata": {},
   "outputs": [
    {
     "data": {
      "image/png": "[encoded data removed]",
      "text/plain": [
       "<Figure size 432x288 with 1 Axes>"
      ]
     },
     "metadata": {},
     "output_type": "display_data"
    }
   ],
   "source": [
    "%matplotlib inline\n",
    "import numpy as np\n",
    "import scipy as sp\n",
    "import matplotlib.pyplot as plt\n",
    "\n",
    "def logR(x, b1, b0):\n",
    "    return 1/(1+np.exp(-(x*b1+b0)))\n",
    "\n",
    "\n",
    "def plot_logR(x, b1, b0, print_betas=False):\n",
    "    output = logR(input,b1,b0)\n",
    "    #plt.xkcd(scale=0.6, length=0.0)\n",
    "    plt.plot(input, output)\n",
    "    if print_betas:\n",
    "        plt.title(r'$\\beta_1=%.2f$;  $\\beta_0=%.2f$' % (b1, b0))\n",
    "    else:\n",
    "        plt.title(r'$\\beta_1=?$;  $\\beta_0=?$')\n",
    "    plt.ylabel(r'Heart Disease Probability $P(Y=1)$')\n",
    "    plt.xlabel('Max Heart Rate')\n",
    "    plt.tight_layout()\n",
    "    plt.grid()\n",
    "    plt.show()\n",
    "\n",
    "input= np.linspace(100,160,1000)\n",
    "b1 = 0.2\n",
    "output = plot_logR(input,b1,-130*b1, True)"
   ]
  },
  {
   "cell_type": "markdown",
   "metadata": {},
   "source": [
    "Which estimates the probability of having a Hear Disease, given the MAX Heart Rate of a subject."
   ]
  },
  {
   "cell_type": "markdown",
   "metadata": {},
   "source": [
    "Create a function that given a $Max Heart Rate$ value, generate $N$ patientes that are either healthy (0) or have a Heart Disease (1). To do so, you should sample from a bernoulli distribution and extract the parameter that defines that bernoulli distribution from the Logistic Regresion output."
   ]
  },
  {
   "cell_type": "code",
   "execution_count": 14,
   "metadata": {},
   "outputs": [],
   "source": [
    "def bernoulli_sampler(MaxHeartRate, N_patients, b1, b0):\n",
    "    p_bernoulli = output = logR(MaxHeartRate, b1, b0)\n",
    "    probabilities = np.random.uniform(size=N_patients)\n",
    "    bernoulli_samples = 1*(probabilities<p_bernoulli)\n",
    "    return bernoulli_samples"
   ]
  },
  {
   "cell_type": "markdown",
   "metadata": {},
   "source": [
    "For $Max Heart Rate={100, 120, 130, 150}$ generate a population of 100 patients, for every $Max Heart Rate$"
   ]
  },
  {
   "cell_type": "code",
   "execution_count": 23,
   "metadata": {},
   "outputs": [
    {
     "name": "stdout",
     "output_type": "stream",
     "text": [
      "[0 0 0 0 0 0 0 0 0 0 0 0 0 0 0 0 0 0 0 0 0 0 0 0 0 0 0 0 0 0 0 0 0 0 0 0 0\n",
      " 0 0 0 0 0 0 0 0 0 0 0 0 0 0 0 0 0 0 0 0 0 0 0 0 0 0 0 0 0 0 0 0 0 0 0 0 0\n",
      " 0 0 0 0 0 0 0 0 0 0 0 0 0 0 0 0 0 0 0 0 0 0 0 0 0 0]\n",
      "[0 0 1 0 0 0 0 0 0 0 0 0 0 0 0 0 0 0 1 0 0 0 0 0 0 0 0 0 0 0 0 0 0 0 1 1 0\n",
      " 0 0 0 0 0 1 0 0 0 0 0 0 0 0 0 0 0 0 0 0 0 0 1 0 0 0 0 1 0 0 0 0 0 0 0 0 0\n",
      " 0 0 0 0 0 0 0 0 0 0 0 0 1 1 0 0 0 0 0 0 0 0 0 0 0 0]\n",
      "[0 0 1 0 1 1 0 0 1 1 0 0 1 1 0 0 1 0 0 1 1 1 1 0 1 1 1 1 0 0 0 0 1 0 0 0 0\n",
      " 1 1 1 1 0 1 0 0 0 0 0 1 0 1 0 1 1 0 1 1 1 1 0 1 0 1 0 0 0 1 0 0 1 1 1 1 1\n",
      " 1 1 1 0 0 0 1 1 1 0 0 0 1 0 0 1 0 0 0 1 1 0 1 1 0 1]\n",
      "[1 1 1 1 1 1 1 1 1 1 1 1 1 1 1 1 1 1 1 1 1 1 1 1 1 1 1 1 1 1 1 1 1 1 1 1 1\n",
      " 1 1 1 1 1 1 1 1 1 1 1 1 1 1 1 1 1 1 1 1 1 1 1 1 1 1 1 1 1 1 1 1 1 1 1 1 1\n",
      " 1 1 1 1 1 1 1 1 0 1 1 1 1 1 1 1 1 1 1 1 1 1 1 1 1 1]\n"
     ]
    }
   ],
   "source": [
    "n_patients = 100\n",
    "print(bernoulli_sampler(100,n_patients,b1,-130*b1))\n",
    "print(bernoulli_sampler(120,n_patients,b1,-130*b1))\n",
    "print(bernoulli_sampler(130,n_patients,b1,-130*b1))\n",
    "print(bernoulli_sampler(150,n_patients,b1,-130*b1))"
   ]
  },
  {
   "cell_type": "markdown",
   "metadata": {},
   "source": [
    "For every population that you previously generated calulate it's probability of choosing a patient with a Heart Disease"
   ]
  },
  {
   "cell_type": "code",
   "execution_count": 25,
   "metadata": {},
   "outputs": [
    {
     "name": "stdout",
     "output_type": "stream",
     "text": [
      "0.01\n",
      "0.12\n",
      "0.52\n",
      "0.98\n"
     ]
    }
   ],
   "source": [
    "print(np.mean(bernoulli_sampler(100,n_patients,b1,-130*b1)))\n",
    "print(np.mean(bernoulli_sampler(120,n_patients,b1,-130*b1)))\n",
    "print(np.mean(bernoulli_sampler(130,n_patients,b1,-130*b1)))\n",
    "print(np.mean(bernoulli_sampler(150,n_patients,b1,-130*b1)))"
   ]
  },
  {
   "cell_type": "markdown",
   "metadata": {},
   "source": [
    "# Let's look to actual heart disease DATA"
   ]
  },
  {
   "cell_type": "code",
   "execution_count": 27,
   "metadata": {},
   "outputs": [],
   "source": [
    "import pandas as pd\n",
    "heart = pd.read_csv('../../Data/heart.csv')"
   ]
  },
  {
   "cell_type": "code",
   "execution_count": 28,
   "metadata": {},
   "outputs": [
    {
     "data": {
      "text/html": [
       "<div>\n",
       "<style scoped>\n",
       "    .dataframe tbody tr th:only-of-type {\n",
       "        vertical-align: middle;\n",
       "    }\n",
       "\n",
       "    .dataframe tbody tr th {\n",
       "        vertical-align: top;\n",
       "    }\n",
       "\n",
       "    .dataframe thead th {\n",
       "        text-align: right;\n",
       "    }\n",
       "</style>\n",
       "<table border=\"1\" class=\"dataframe\">\n",
       "  <thead>\n",
       "    <tr style=\"text-align: right;\">\n",
       "      <th></th>\n",
       "      <th>Unnamed: 0</th>\n",
       "      <th>age</th>\n",
       "      <th>sex</th>\n",
       "      <th>cp</th>\n",
       "      <th>trestbps</th>\n",
       "      <th>chol</th>\n",
       "      <th>fbs</th>\n",
       "      <th>restecg</th>\n",
       "      <th>MaxHR</th>\n",
       "      <th>exang</th>\n",
       "      <th>oldpeak</th>\n",
       "      <th>slope</th>\n",
       "      <th>ca</th>\n",
       "      <th>thal</th>\n",
       "      <th>AHD</th>\n",
       "    </tr>\n",
       "  </thead>\n",
       "  <tbody>\n",
       "    <tr>\n",
       "      <th>0</th>\n",
       "      <td>0</td>\n",
       "      <td>28</td>\n",
       "      <td>1</td>\n",
       "      <td>2</td>\n",
       "      <td>130</td>\n",
       "      <td>132</td>\n",
       "      <td>0</td>\n",
       "      <td>2</td>\n",
       "      <td>185</td>\n",
       "      <td>0</td>\n",
       "      <td>0.0</td>\n",
       "      <td>?</td>\n",
       "      <td>?</td>\n",
       "      <td>?</td>\n",
       "      <td>0</td>\n",
       "    </tr>\n",
       "    <tr>\n",
       "      <th>1</th>\n",
       "      <td>1</td>\n",
       "      <td>29</td>\n",
       "      <td>1</td>\n",
       "      <td>2</td>\n",
       "      <td>120</td>\n",
       "      <td>243</td>\n",
       "      <td>0</td>\n",
       "      <td>0</td>\n",
       "      <td>160</td>\n",
       "      <td>0</td>\n",
       "      <td>0.0</td>\n",
       "      <td>?</td>\n",
       "      <td>?</td>\n",
       "      <td>?</td>\n",
       "      <td>0</td>\n",
       "    </tr>\n",
       "    <tr>\n",
       "      <th>2</th>\n",
       "      <td>2</td>\n",
       "      <td>29</td>\n",
       "      <td>1</td>\n",
       "      <td>2</td>\n",
       "      <td>140</td>\n",
       "      <td>?</td>\n",
       "      <td>0</td>\n",
       "      <td>0</td>\n",
       "      <td>170</td>\n",
       "      <td>0</td>\n",
       "      <td>0.0</td>\n",
       "      <td>?</td>\n",
       "      <td>?</td>\n",
       "      <td>?</td>\n",
       "      <td>0</td>\n",
       "    </tr>\n",
       "    <tr>\n",
       "      <th>3</th>\n",
       "      <td>3</td>\n",
       "      <td>30</td>\n",
       "      <td>0</td>\n",
       "      <td>1</td>\n",
       "      <td>170</td>\n",
       "      <td>237</td>\n",
       "      <td>0</td>\n",
       "      <td>1</td>\n",
       "      <td>170</td>\n",
       "      <td>0</td>\n",
       "      <td>0.0</td>\n",
       "      <td>?</td>\n",
       "      <td>?</td>\n",
       "      <td>6</td>\n",
       "      <td>0</td>\n",
       "    </tr>\n",
       "    <tr>\n",
       "      <th>4</th>\n",
       "      <td>4</td>\n",
       "      <td>31</td>\n",
       "      <td>0</td>\n",
       "      <td>2</td>\n",
       "      <td>100</td>\n",
       "      <td>219</td>\n",
       "      <td>0</td>\n",
       "      <td>1</td>\n",
       "      <td>150</td>\n",
       "      <td>0</td>\n",
       "      <td>0.0</td>\n",
       "      <td>?</td>\n",
       "      <td>?</td>\n",
       "      <td>?</td>\n",
       "      <td>0</td>\n",
       "    </tr>\n",
       "  </tbody>\n",
       "</table>\n",
       "</div>"
      ],
      "text/plain": [
       "   Unnamed: 0  age  sex  cp  trestbps chol fbs restecg  MaxHR  exang  oldpeak  \\\n",
       "0           0   28    1   2       130  132   0       2    185      0      0.0   \n",
       "1           1   29    1   2       120  243   0       0    160      0      0.0   \n",
       "2           2   29    1   2       140    ?   0       0    170      0      0.0   \n",
       "3           3   30    0   1       170  237   0       1    170      0      0.0   \n",
       "4           4   31    0   2       100  219   0       1    150      0      0.0   \n",
       "\n",
       "  slope ca thal  AHD  \n",
       "0     ?  ?    ?    0  \n",
       "1     ?  ?    ?    0  \n",
       "2     ?  ?    ?    0  \n",
       "3     ?  ?    6    0  \n",
       "4     ?  ?    ?    0  "
      ]
     },
     "execution_count": 28,
     "metadata": {},
     "output_type": "execute_result"
    }
   ],
   "source": [
    "heart.head()"
   ]
  },
  {
   "cell_type": "markdown",
   "metadata": {},
   "source": [
    "Let's try fitting a Linear regresion with scikit-learn. We'll try to detect Arthery Heart Disease from Max Heart Rate of patients"
   ]
  },
  {
   "cell_type": "code",
   "execution_count": 29,
   "metadata": {},
   "outputs": [
    {
     "name": "stdout",
     "output_type": "stream",
     "text": [
      "Estimated beta1: \n",
      " [[-0.03208213]]\n",
      "Estimated beta0: \n",
      " [3.82457652]\n"
     ]
    },
    {
     "name": "stderr",
     "output_type": "stream",
     "text": [
      "/home/esteban/anaconda3/envs/tf/lib/python3.6/site-packages/sklearn/linear_model/logistic.py:433: FutureWarning: Default solver will be changed to 'lbfgs' in 0.22. Specify a solver to silence this warning.\n",
      "  FutureWarning)\n"
     ]
    }
   ],
   "source": [
    "\n",
    "from sklearn.linear_model import LogisticRegression\n",
    "\n",
    "data_x = heart.MaxHR\n",
    "data_y = heart.AHD\n",
    "\n",
    "logreg = LogisticRegression(C=10000, fit_intercept=True)\n",
    "logreg.fit(data_x.values.reshape(-1,1), data_y)\n",
    "\n",
    "print('Estimated beta1: \\n', logreg.coef_)\n",
    "print('Estimated beta0: \\n', logreg.intercept_)"
   ]
  },
  {
   "cell_type": "markdown",
   "metadata": {},
   "source": [
    "To complicate thing, let's fit a Logistic regresion with two predictors and interprete their parameters. Use MaxHR and sex"
   ]
  },
  {
   "cell_type": "code",
   "execution_count": 30,
   "metadata": {},
   "outputs": [
    {
     "name": "stdout",
     "output_type": "stream",
     "text": [
      "Estimated beta1, beta2: \n",
      " [[-0.03130032  1.44819771]]\n",
      "Estimated beta0: \n",
      " [2.59064268]\n"
     ]
    },
    {
     "name": "stderr",
     "output_type": "stream",
     "text": [
      "/home/esteban/anaconda3/envs/tf/lib/python3.6/site-packages/sklearn/linear_model/logistic.py:433: FutureWarning: Default solver will be changed to 'lbfgs' in 0.22. Specify a solver to silence this warning.\n",
      "  FutureWarning)\n"
     ]
    }
   ],
   "source": [
    "\n",
    "from sklearn.linear_model import LogisticRegression\n",
    "\n",
    "data_x = heart[['MaxHR', 'sex']]\n",
    "data_y = heart.AHD\n",
    "\n",
    "logreg = LogisticRegression(C=10000, fit_intercept=True)\n",
    "logreg.fit(data_x, data_y)\n",
    "\n",
    "print('Estimated beta1, beta2: \\n', logreg.coef_)\n",
    "print('Estimated beta0: \\n', logreg.intercept_)"
   ]
  },
  {
   "cell_type": "markdown",
   "metadata": {},
   "source": [
    "Now let's see if the interaction between sex and MaxHR attributes can be useful for the model, including it a as a third predictor."
   ]
  },
  {
   "cell_type": "code",
   "execution_count": 31,
   "metadata": {},
   "outputs": [
    {
     "name": "stdout",
     "output_type": "stream",
     "text": [
      "Estimated beta1, beta2, beta3: \n",
      " [[-0.02538956  2.43803575 -0.00732114]]\n",
      "Estimated beta0: \n",
      " [1.79405041]\n"
     ]
    },
    {
     "name": "stderr",
     "output_type": "stream",
     "text": [
      "/home/esteban/anaconda3/envs/tf/lib/python3.6/site-packages/sklearn/linear_model/logistic.py:433: FutureWarning: Default solver will be changed to 'lbfgs' in 0.22. Specify a solver to silence this warning.\n",
      "  FutureWarning)\n"
     ]
    }
   ],
   "source": [
    "\n",
    "from sklearn.linear_model import LogisticRegression\n",
    "\n",
    "heart['Interaction'] = heart.MaxHR * heart.sex\n",
    "\n",
    "data_x = heart[['MaxHR', 'sex', 'Interaction']]\n",
    "data_y = heart.AHD\n",
    "\n",
    "logreg = LogisticRegression(C=10000, fit_intercept=True)\n",
    "logreg.fit(data_x, data_y)\n",
    "\n",
    "print('Estimated beta1, beta2, beta3: \\n', logreg.coef_)\n",
    "print('Estimated beta0: \\n', logreg.intercept_)"
   ]
  },
  {
   "cell_type": "code",
   "execution_count": null,
   "metadata": {},
   "outputs": [],
   "source": []
  }
 ],
 "metadata": {
  "kernelspec": {
   "display_name": "Python 3",
   "language": "python",
   "name": "python3"
  },
  "language_info": {
   "codemirror_mode": {
    "name": "ipython",
    "version": 3
   },
   "file_extension": ".py",
   "mimetype": "text/x-python",
   "name": "python",
   "nbconvert_exporter": "python",
   "pygments_lexer": "ipython3",
   "version": "3.7.3"
  }
 },
 "nbformat": 4,
 "nbformat_minor": 2
}
